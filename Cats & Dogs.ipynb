{
 "cells": [
  {
   "cell_type": "markdown",
   "id": "e46a0e45",
   "metadata": {},
   "source": [
    "# Importing Packages"
   ]
  },
  {
   "cell_type": "code",
   "execution_count": 3,
   "id": "f41d3125",
   "metadata": {},
   "outputs": [],
   "source": [
    "import os,shutil,matplotlib\n",
    "import matplotlib.pyplot as plt\n",
    "from tensorflow.keras import layers,models,optimizers\n",
    "from tensorflow.keras.preprocessing import image\n",
    "from tensorflow.keras.preprocessing.image import ImageDataGenerator\n",
    "import numpy as np"
   ]
  },
  {
   "cell_type": "markdown",
   "id": "03b031b1",
   "metadata": {},
   "source": [
    "# Loading Cats And Dog Data"
   ]
  },
  {
   "cell_type": "code",
   "execution_count": 2,
   "id": "db060ffe",
   "metadata": {},
   "outputs": [],
   "source": [
    "length_cat = len(os.listdir(r'/home/hassan-ahmed-khan/Ai Practice/datasets/cats&dogs/Cat'))\n",
    "length_dog = len(os.listdir(r'/home/hassan-ahmed-khan/Ai Practice/datasets/cats&dogs/Dog'))"
   ]
  },
  {
   "cell_type": "code",
   "execution_count": 4,
   "id": "28a8b77c",
   "metadata": {},
   "outputs": [
    {
     "name": "stdout",
     "output_type": "stream",
     "text": [
      "12500\n",
      "12500\n"
     ]
    }
   ],
   "source": [
    "print(length_cat)\n",
    "print(length_dog)"
   ]
  },
  {
   "cell_type": "markdown",
   "id": "a4dff2f4",
   "metadata": {},
   "source": [
    "# Paths of Directories"
   ]
  },
  {
   "cell_type": "code",
   "execution_count": 5,
   "id": "6298fbf7",
   "metadata": {},
   "outputs": [],
   "source": [
    "base_dir = r'/home/hassan-ahmed-khan/Ai Practice/datasets/cats&dogs'\n",
    "\n",
    "dataset_dir = os.path.join(base_dir,'Data')\n",
    "train_dir = os.path.join(base_dir,'train')\n",
    "validation_dir = os.path.join(base_dir,'validation')\n",
    "test_dir = os.path.join(base_dir,'test')\n",
    "train_cat_dir = os.path.join(train_dir,'cat')\n",
    "test_cat_dir = os.path.join(test_dir,'cat')\n",
    "validation_cat_dir = os.path.join(validation_dir,'cat')\n",
    "train_dog_dir = os.path.join(train_dir,'dog')\n",
    "test_dog_dir = os.path.join(test_dir,'dog')\n",
    "validation_dog_dir = os.path.join(validation_dir,'dog')\n"
   ]
  },
  {
   "cell_type": "markdown",
   "id": "ed436d8a",
   "metadata": {},
   "source": [
    "# Making Folder"
   ]
  },
  {
   "cell_type": "code",
   "execution_count": 49,
   "id": "f37731ed",
   "metadata": {},
   "outputs": [],
   "source": [
    "os.mkdir(train_dir)\n",
    "os.mkdir(test_dir)\n",
    "os.mkdir(validation_dir)\n",
    "os.mkdir(train_cat_dir)\n",
    "os.mkdir(test_cat_dir)\n",
    "os.mkdir(validation_cat_dir)\n",
    "os.mkdir(train_dog_dir)\n",
    "os.mkdir(test_dog_dir)\n",
    "os.mkdir(validation_dog_dir)"
   ]
  },
  {
   "cell_type": "code",
   "execution_count": 6,
   "id": "6d58b370",
   "metadata": {},
   "outputs": [
    {
     "data": {
      "text/plain": [
       "25000"
      ]
     },
     "execution_count": 6,
     "metadata": {},
     "output_type": "execute_result"
    }
   ],
   "source": [
    "len(os.listdir(dataset_dir))"
   ]
  },
  {
   "cell_type": "markdown",
   "id": "8792e0d1",
   "metadata": {},
   "source": [
    "# Distributing Cats and Dog Images Into 3 Parts (Training, Validation and Test)"
   ]
  },
  {
   "cell_type": "code",
   "execution_count": 53,
   "id": "03838e68",
   "metadata": {},
   "outputs": [],
   "source": [
    "train_cats = [f'cat.{i}.jpg' for i in range(1000)]\n",
    "for cat in train_cats:\n",
    "    src_dir = os.path.join(dataset_dir,cat)\n",
    "    dst_dir = os.path.join(train_cat_dir,cat)\n",
    "    shutil.copyfile(src_dir,dst_dir)\n"
   ]
  },
  {
   "cell_type": "code",
   "execution_count": 52,
   "id": "83f4e6e3",
   "metadata": {},
   "outputs": [],
   "source": [
    "validation_cats = [f'cat.{i}.jpg' for i in range(1000,1500)]\n",
    "for cat in validation_cats:\n",
    "    src_dir = os.path.join(dataset_dir,cat)\n",
    "    dst_dir = os.path.join(validation_cat_dir,cat)\n",
    "    shutil.copyfile(src_dir,dst_dir)"
   ]
  },
  {
   "cell_type": "code",
   "execution_count": 51,
   "id": "7895b679",
   "metadata": {},
   "outputs": [],
   "source": [
    "test_cats = [f'cat.{i}.jpg' for i in range(1500,2000)]\n",
    "for cat in test_cats:\n",
    "    src_dir = os.path.join(dataset_dir,cat)\n",
    "    dst_dir = os.path.join(test_cat_dir,cat)\n",
    "    shutil.copyfile(src_dir,dst_dir)"
   ]
  },
  {
   "cell_type": "code",
   "execution_count": 50,
   "id": "8b65bf6c",
   "metadata": {},
   "outputs": [],
   "source": [
    "train_dogs = [f'dog.{i}.jpg' for i in range(1000)]\n",
    "for dog in train_dogs:\n",
    "    src_dir = os.path.join(dataset_dir,dog)\n",
    "    dst_dir = os.path.join(train_dog_dir,dog)\n",
    "    shutil.copyfile(src_dir,dst_dir)\n",
    "    \n",
    "validation_dogs = [f'dog.{i}.jpg' for i in range(1000,1500)]\n",
    "for dog in validation_dogs:\n",
    "    src_dir = os.path.join(dataset_dir,dog)\n",
    "    dst_dir = os.path.join(validation_dog_dir,dog)\n",
    "    shutil.copyfile(src_dir,dst_dir)\n",
    "\n",
    "test_dogs = [f'dog.{i}.jpg' for i in range(1500,2000)]\n",
    "for dog in test_dogs:\n",
    "    src_dir = os.path.join(dataset_dir,dog)\n",
    "    dst_dir = os.path.join(test_dog_dir,dog)\n",
    "    shutil.copyfile(src_dir,dst_dir)\n",
    "\n",
    "    "
   ]
  },
  {
   "cell_type": "code",
   "execution_count": 6,
   "id": "f25067a7",
   "metadata": {},
   "outputs": [
    {
     "name": "stdout",
     "output_type": "stream",
     "text": [
      "total training dog images: 500\n"
     ]
    }
   ],
   "source": [
    "print('total training dog images:', len(os.listdir(test_dog_dir)))"
   ]
  },
  {
   "cell_type": "markdown",
   "id": "504788c3",
   "metadata": {},
   "source": [
    "# Making Model Architecture "
   ]
  },
  {
   "cell_type": "code",
   "execution_count": 37,
   "id": "d7fd481c",
   "metadata": {},
   "outputs": [],
   "source": [
    "model = models.Sequential()\n",
    "model.add(layers.Conv2D(32,(3,3),activation='relu',input_shape=(150,150,3)))\n",
    "model.add(layers.MaxPool2D((2,2)))\n",
    "model.add(layers.Conv2D(64,(3,3),activation='relu'))\n",
    "model.add(layers.MaxPool2D((2,2)))\n",
    "model.add(layers.Conv2D(128,(3,3),activation='relu'))\n",
    "model.add(layers.MaxPool2D((2,2)))\n",
    "model.add(layers.Conv2D(128,(3,3),activation='relu'))\n",
    "model.add(layers.MaxPool2D((2,2)))\n",
    "model.add(layers.Flatten())\n",
    "model.add(layers.Dense(512,activation='relu'))\n",
    "model.add(layers.Dense(1,activation='sigmoid'))"
   ]
  },
  {
   "cell_type": "markdown",
   "id": "66a846c8",
   "metadata": {},
   "source": [
    "# Model Details"
   ]
  },
  {
   "cell_type": "code",
   "execution_count": 38,
   "id": "6bc1de99",
   "metadata": {},
   "outputs": [
    {
     "name": "stdout",
     "output_type": "stream",
     "text": [
      "Model: \"sequential_3\"\n",
      "_________________________________________________________________\n",
      " Layer (type)                Output Shape              Param #   \n",
      "=================================================================\n",
      " conv2d_12 (Conv2D)          (None, 148, 148, 32)      896       \n",
      "                                                                 \n",
      " max_pooling2d_12 (MaxPooli  (None, 74, 74, 32)        0         \n",
      " ng2D)                                                           \n",
      "                                                                 \n",
      " conv2d_13 (Conv2D)          (None, 72, 72, 64)        18496     \n",
      "                                                                 \n",
      " max_pooling2d_13 (MaxPooli  (None, 36, 36, 64)        0         \n",
      " ng2D)                                                           \n",
      "                                                                 \n",
      " conv2d_14 (Conv2D)          (None, 34, 34, 128)       73856     \n",
      "                                                                 \n",
      " max_pooling2d_14 (MaxPooli  (None, 17, 17, 128)       0         \n",
      " ng2D)                                                           \n",
      "                                                                 \n",
      " conv2d_15 (Conv2D)          (None, 15, 15, 128)       147584    \n",
      "                                                                 \n",
      " max_pooling2d_15 (MaxPooli  (None, 7, 7, 128)         0         \n",
      " ng2D)                                                           \n",
      "                                                                 \n",
      " flatten_3 (Flatten)         (None, 6272)              0         \n",
      "                                                                 \n",
      " dense_6 (Dense)             (None, 512)               3211776   \n",
      "                                                                 \n",
      " dense_7 (Dense)             (None, 1)                 513       \n",
      "                                                                 \n",
      "=================================================================\n",
      "Total params: 3453121 (13.17 MB)\n",
      "Trainable params: 3453121 (13.17 MB)\n",
      "Non-trainable params: 0 (0.00 Byte)\n",
      "_________________________________________________________________\n"
     ]
    }
   ],
   "source": [
    "model.summary()"
   ]
  },
  {
   "cell_type": "markdown",
   "id": "f802e954",
   "metadata": {},
   "source": [
    "# Compile a Model"
   ]
  },
  {
   "cell_type": "code",
   "execution_count": 39,
   "id": "3b187775",
   "metadata": {},
   "outputs": [],
   "source": [
    "model.compile(optimizer=optimizers.RMSprop(learning_rate=1e-4), loss = 'binary_crossentropy' , metrics=['acc'])\n",
    "# model.compile(loss='binary_crossentropy',optimizer=optimizers.RMSprop(learning_rate=1e-4),metrics=['acc'])"
   ]
  },
  {
   "cell_type": "markdown",
   "id": "ae0e10ad",
   "metadata": {},
   "source": [
    "#### Making Python Generators For Images By use of ImageDataGenerator  Funtion of Python and also labels the images"
   ]
  },
  {
   "cell_type": "code",
   "execution_count": 53,
   "id": "800de966",
   "metadata": {},
   "outputs": [
    {
     "name": "stdout",
     "output_type": "stream",
     "text": [
      "Found 2000 images belonging to 2 classes.\n",
      "Found 1000 images belonging to 2 classes.\n"
     ]
    }
   ],
   "source": [
    "train_data_gen = ImageDataGenerator(rescale=1./255)\n",
    "test_data_gen = ImageDataGenerator(rescale=1./255)\n",
    "train_generator = train_data_gen.flow_from_directory(train_dir,target_size=(150,150),batch_size=20,class_mode='binary')\n",
    "validation_generator = test_data_gen.flow_from_directory(validation_dir,target_size=(150,150),batch_size=20,class_mode='binary')\n"
   ]
  },
  {
   "cell_type": "code",
   "execution_count": 59,
   "id": "3abcd3df",
   "metadata": {},
   "outputs": [
    {
     "name": "stdout",
     "output_type": "stream",
     "text": [
      "(20, 150, 150, 3)\n",
      "(20,)\n"
     ]
    }
   ],
   "source": [
    "for data,label in train_generator:\n",
    "    print(data.shape)\n",
    "    print(label.shape)\n",
    "    break"
   ]
  },
  {
   "cell_type": "markdown",
   "id": "f11f7930",
   "metadata": {},
   "source": [
    "#### Fit or Train the Model on The training Data"
   ]
  },
  {
   "cell_type": "code",
   "execution_count": 42,
   "id": "9e51f26a",
   "metadata": {},
   "outputs": [
    {
     "name": "stdout",
     "output_type": "stream",
     "text": [
      "Epoch 1/30\n"
     ]
    },
    {
     "name": "stderr",
     "output_type": "stream",
     "text": [
      "/tmp/ipykernel_3172/579704996.py:1: UserWarning: `Model.fit_generator` is deprecated and will be removed in a future version. Please use `Model.fit`, which supports generators.\n",
      "  history = model.fit_generator(train_generator,steps_per_epoch=100,epochs=30,validation_data=validation_generator,validation_steps=50)\n"
     ]
    },
    {
     "name": "stdout",
     "output_type": "stream",
     "text": [
      "100/100 [==============================] - 108s 1s/step - loss: 0.6930 - acc: 0.5200 - val_loss: 0.6956 - val_acc: 0.5080\n",
      "Epoch 2/30\n",
      "100/100 [==============================] - 140s 1s/step - loss: 0.6694 - acc: 0.5790 - val_loss: 0.6590 - val_acc: 0.5930\n",
      "Epoch 3/30\n",
      "100/100 [==============================] - 142s 1s/step - loss: 0.6308 - acc: 0.6310 - val_loss: 0.6620 - val_acc: 0.5940\n",
      "Epoch 4/30\n",
      "100/100 [==============================] - 131s 1s/step - loss: 0.5932 - acc: 0.6770 - val_loss: 0.6264 - val_acc: 0.6340\n",
      "Epoch 5/30\n",
      "100/100 [==============================] - 138s 1s/step - loss: 0.5580 - acc: 0.7075 - val_loss: 0.6013 - val_acc: 0.6680\n",
      "Epoch 6/30\n",
      "100/100 [==============================] - 128s 1s/step - loss: 0.5405 - acc: 0.7255 - val_loss: 0.5930 - val_acc: 0.6960\n",
      "Epoch 7/30\n",
      "100/100 [==============================] - 139s 1s/step - loss: 0.5230 - acc: 0.7345 - val_loss: 0.5826 - val_acc: 0.6900\n",
      "Epoch 8/30\n",
      "100/100 [==============================] - 146s 1s/step - loss: 0.4961 - acc: 0.7500 - val_loss: 0.5899 - val_acc: 0.7000\n",
      "Epoch 9/30\n",
      "100/100 [==============================] - 138s 1s/step - loss: 0.4791 - acc: 0.7690 - val_loss: 0.6326 - val_acc: 0.6640\n",
      "Epoch 10/30\n",
      "100/100 [==============================] - 146s 1s/step - loss: 0.4583 - acc: 0.7865 - val_loss: 0.5687 - val_acc: 0.7030\n",
      "Epoch 11/30\n",
      "100/100 [==============================] - 132s 1s/step - loss: 0.4360 - acc: 0.8040 - val_loss: 0.5675 - val_acc: 0.7050\n",
      "Epoch 12/30\n",
      "100/100 [==============================] - 150s 2s/step - loss: 0.4069 - acc: 0.8070 - val_loss: 0.6049 - val_acc: 0.6910\n",
      "Epoch 13/30\n",
      "100/100 [==============================] - 116s 1s/step - loss: 0.3866 - acc: 0.8240 - val_loss: 0.7902 - val_acc: 0.6530\n",
      "Epoch 14/30\n",
      "100/100 [==============================] - 133s 1s/step - loss: 0.3641 - acc: 0.8470 - val_loss: 0.6193 - val_acc: 0.7000\n",
      "Epoch 15/30\n",
      "100/100 [==============================] - 120s 1s/step - loss: 0.3382 - acc: 0.8560 - val_loss: 0.6033 - val_acc: 0.7140\n",
      "Epoch 16/30\n",
      "100/100 [==============================] - 125s 1s/step - loss: 0.3154 - acc: 0.8680 - val_loss: 0.5724 - val_acc: 0.7280\n",
      "Epoch 17/30\n",
      "100/100 [==============================] - 137s 1s/step - loss: 0.2939 - acc: 0.8795 - val_loss: 0.6027 - val_acc: 0.7180\n",
      "Epoch 18/30\n",
      "100/100 [==============================] - 119s 1s/step - loss: 0.2604 - acc: 0.8970 - val_loss: 0.6300 - val_acc: 0.7130\n",
      "Epoch 19/30\n",
      "100/100 [==============================] - 131s 1s/step - loss: 0.2393 - acc: 0.9090 - val_loss: 0.7215 - val_acc: 0.6960\n",
      "Epoch 20/30\n",
      "100/100 [==============================] - 135s 1s/step - loss: 0.2184 - acc: 0.9195 - val_loss: 0.6435 - val_acc: 0.7260\n",
      "Epoch 21/30\n",
      "100/100 [==============================] - 139s 1s/step - loss: 0.1903 - acc: 0.9340 - val_loss: 0.7135 - val_acc: 0.7100\n",
      "Epoch 22/30\n",
      "100/100 [==============================] - 146s 1s/step - loss: 0.1721 - acc: 0.9360 - val_loss: 0.6881 - val_acc: 0.7210\n",
      "Epoch 23/30\n",
      "100/100 [==============================] - 155s 2s/step - loss: 0.1504 - acc: 0.9475 - val_loss: 0.7411 - val_acc: 0.7120\n",
      "Epoch 24/30\n",
      "100/100 [==============================] - 118s 1s/step - loss: 0.1368 - acc: 0.9520 - val_loss: 0.7463 - val_acc: 0.7210\n",
      "Epoch 25/30\n",
      "100/100 [==============================] - 134s 1s/step - loss: 0.1195 - acc: 0.9630 - val_loss: 0.8053 - val_acc: 0.7240\n",
      "Epoch 26/30\n",
      "100/100 [==============================] - 121s 1s/step - loss: 0.0929 - acc: 0.9735 - val_loss: 0.7675 - val_acc: 0.7260\n",
      "Epoch 27/30\n",
      "100/100 [==============================] - 134s 1s/step - loss: 0.0906 - acc: 0.9705 - val_loss: 0.8400 - val_acc: 0.7120\n",
      "Epoch 28/30\n",
      "100/100 [==============================] - 131s 1s/step - loss: 0.0700 - acc: 0.9805 - val_loss: 0.8922 - val_acc: 0.7310\n",
      "Epoch 29/30\n",
      "100/100 [==============================] - 138s 1s/step - loss: 0.0589 - acc: 0.9850 - val_loss: 0.8986 - val_acc: 0.7140\n",
      "Epoch 30/30\n",
      "100/100 [==============================] - 134s 1s/step - loss: 0.0550 - acc: 0.9845 - val_loss: 0.9750 - val_acc: 0.7090\n"
     ]
    }
   ],
   "source": [
    "history = model.fit_generator(train_generator,steps_per_epoch=100,epochs=30,validation_data=validation_generator,validation_steps=50)"
   ]
  },
  {
   "cell_type": "markdown",
   "id": "ba1868cf",
   "metadata": {},
   "source": [
    "#### Visualizing Training Results"
   ]
  },
  {
   "cell_type": "code",
   "execution_count": 48,
   "id": "cc760fac",
   "metadata": {},
   "outputs": [
    {
     "data": {
      "image/png": "[encoded data removed]",
      "text/plain": [
       "<Figure size 640x480 with 1 Axes>"
      ]
     },
     "metadata": {},
     "output_type": "display_data"
    },
    {
     "data": {
      "image/png": "[encoded data removed]",
      "text/plain": [
       "<Figure size 640x480 with 1 Axes>"
      ]
     },
     "metadata": {},
     "output_type": "display_data"
    }
   ],
   "source": [
    "# history.history.keys()\n",
    "\n",
    "acc = history.history['acc']\n",
    "val_acc = history.history['val_acc']\n",
    "loss = history.history['loss']\n",
    "val_loss = history.history['val_loss']\n",
    "epochs = range(1, len(acc) + 1)\n",
    "plt.plot(epochs, acc, 'bo', label='Training acc')\n",
    "plt.plot(epochs, val_acc, 'b', label='Validation acc')\n",
    "plt.title('Training and validation accuracy')\n",
    "plt.legend()\n",
    "plt.figure()\n",
    "plt.plot(epochs, loss, 'bo', label='Training loss')\n",
    "plt.plot(epochs, val_loss, 'b', label='Validation loss')\n",
    "plt.title('Training and validation loss')\n",
    "plt.legend()\n",
    "plt.show()\n",
    "\n"
   ]
  },
  {
   "cell_type": "markdown",
   "id": "16ceda56",
   "metadata": {},
   "source": [
    "================================================================================================================"
   ]
  },
  {
   "cell_type": "markdown",
   "id": "66a5dbe4",
   "metadata": {},
   "source": [
    "#### 2nd Architecture For Classification Model"
   ]
  },
  {
   "cell_type": "markdown",
   "id": "53428425",
   "metadata": {},
   "source": [
    "#### Making Python Generators For Images By use of ImageDataGenerator  Funtion of Python,applying Data Augmentation and also labels the images"
   ]
  },
  {
   "cell_type": "code",
   "execution_count": 55,
   "id": "3ded7abe",
   "metadata": {},
   "outputs": [
    {
     "name": "stdout",
     "output_type": "stream",
     "text": [
      "Found 2000 images belonging to 2 classes.\n",
      "Found 1000 images belonging to 2 classes.\n"
     ]
    }
   ],
   "source": [
    "train_data_generator = ImageDataGenerator(rescale=1./255,width_shift_range=0.2,height_shift_range=0.2,shear_range=0.2,vertical_flip=True,rotation_range=40,zoom_range=0.2)\n",
    "test_data_generator = ImageDataGenerator(rescale=1./255)\n",
    "\n",
    "train_generator = train_data_generator.flow_from_directory(train_dir,target_size=(150,150),batch_size=20,class_mode='binary')\n",
    "validation_generator = test_data_generator.flow_from_directory(validation_dir,target_size=(150,150),batch_size=20,class_mode='binary')"
   ]
  },
  {
   "cell_type": "code",
   "execution_count": 61,
   "id": "5dff6eba",
   "metadata": {},
   "outputs": [
    {
     "name": "stdout",
     "output_type": "stream",
     "text": [
      "(20, 150, 150, 3)\n",
      "(20,)\n"
     ]
    }
   ],
   "source": [
    "for data, label in train_generator:\n",
    "    print(data.shape)\n",
    "    print(label.shape)\n",
    "    break"
   ]
  },
  {
   "cell_type": "markdown",
   "id": "d393b5ed",
   "metadata": {},
   "source": [
    "#### Model Architecture"
   ]
  },
  {
   "cell_type": "code",
   "execution_count": 62,
   "id": "31dda1ca",
   "metadata": {},
   "outputs": [],
   "source": [
    "model = models.Sequential()\n",
    "model.add(layers.Conv2D(32,(3,3),activation='relu',input_shape=(150,150,3)))\n",
    "model.add(layers.MaxPool2D((2,2)))\n",
    "model.add(layers.Conv2D(64,(3,3),activation='relu'))\n",
    "model.add(layers.MaxPool2D((2,2)))\n",
    "model.add(layers.Conv2D(128,(3,3),activation='relu'))\n",
    "model.add(layers.MaxPool2D((2,2)))\n",
    "model.add(layers.Conv2D(128,(3,3),activation='relu'))\n",
    "model.add(layers.MaxPool2D((2,2)))\n",
    "model.add(layers.Flatten())\n",
    "model.add(layers.Dropout(0.5))\n",
    "model.add(layers.Dense(512,activation='relu'))\n",
    "model.add(layers.Dense(1,activation='sigmoid'))"
   ]
  },
  {
   "cell_type": "markdown",
   "id": "773e95e2",
   "metadata": {},
   "source": [
    "#### Compiling a Model"
   ]
  },
  {
   "cell_type": "code",
   "execution_count": 63,
   "id": "e8bacbb9",
   "metadata": {},
   "outputs": [],
   "source": [
    "model.compile(optimizer=optimizers.RMSprop(learning_rate=1e-4),loss='binary_crossentropy',metrics=['acc'])"
   ]
  },
  {
   "cell_type": "markdown",
   "id": "3c36b529",
   "metadata": {},
   "source": [
    "#### Training Or Fitting The Model on Training Data"
   ]
  },
  {
   "cell_type": "code",
   "execution_count": 64,
   "id": "7bc8fcd1",
   "metadata": {},
   "outputs": [
    {
     "name": "stderr",
     "output_type": "stream",
     "text": [
      "/tmp/ipykernel_3172/3183105912.py:1: UserWarning: `Model.fit_generator` is deprecated and will be removed in a future version. Please use `Model.fit`, which supports generators.\n",
      "  history = model.fit_generator(train_generator,steps_per_epoch=100,epochs=100,validation_data=validation_generator,validation_steps=50)\n"
     ]
    },
    {
     "name": "stdout",
     "output_type": "stream",
     "text": [
      "Epoch 1/100\n",
      "100/100 [==============================] - 99s 987ms/step - loss: 0.6947 - acc: 0.5120 - val_loss: 0.6901 - val_acc: 0.5400\n",
      "Epoch 2/100\n",
      "100/100 [==============================] - 99s 992ms/step - loss: 0.6918 - acc: 0.5250 - val_loss: 0.6844 - val_acc: 0.5020\n",
      "Epoch 3/100\n",
      "100/100 [==============================] - 102s 1s/step - loss: 0.6823 - acc: 0.5460 - val_loss: 0.6663 - val_acc: 0.5710\n",
      "Epoch 4/100\n",
      "100/100 [==============================] - 102s 1s/step - loss: 0.6713 - acc: 0.5735 - val_loss: 0.6682 - val_acc: 0.5570\n",
      "Epoch 5/100\n",
      "100/100 [==============================] - 95s 951ms/step - loss: 0.6683 - acc: 0.5925 - val_loss: 0.6562 - val_acc: 0.5880\n",
      "Epoch 6/100\n",
      "100/100 [==============================] - 99s 991ms/step - loss: 0.6609 - acc: 0.5815 - val_loss: 0.6434 - val_acc: 0.6300\n",
      "Epoch 7/100\n",
      "100/100 [==============================] - 113s 1s/step - loss: 0.6498 - acc: 0.6105 - val_loss: 0.8080 - val_acc: 0.5150\n",
      "Epoch 8/100\n",
      "100/100 [==============================] - 108s 1s/step - loss: 0.6433 - acc: 0.6125 - val_loss: 0.6378 - val_acc: 0.6080\n",
      "Epoch 9/100\n",
      "100/100 [==============================] - 103s 1s/step - loss: 0.6365 - acc: 0.6340 - val_loss: 0.6287 - val_acc: 0.6410\n",
      "Epoch 10/100\n",
      "100/100 [==============================] - 107s 1s/step - loss: 0.6244 - acc: 0.6415 - val_loss: 0.6103 - val_acc: 0.6690\n",
      "Epoch 11/100\n",
      "100/100 [==============================] - 120s 1s/step - loss: 0.6215 - acc: 0.6440 - val_loss: 0.6038 - val_acc: 0.6660\n",
      "Epoch 12/100\n",
      "100/100 [==============================] - 126s 1s/step - loss: 0.6180 - acc: 0.6520 - val_loss: 0.6150 - val_acc: 0.6550\n",
      "Epoch 13/100\n",
      "100/100 [==============================] - 131s 1s/step - loss: 0.6119 - acc: 0.6650 - val_loss: 0.5927 - val_acc: 0.6760\n",
      "Epoch 14/100\n",
      "100/100 [==============================] - 136s 1s/step - loss: 0.6078 - acc: 0.6655 - val_loss: 0.5933 - val_acc: 0.6730\n",
      "Epoch 15/100\n",
      "100/100 [==============================] - 2830s 29s/step - loss: 0.5937 - acc: 0.6780 - val_loss: 0.5782 - val_acc: 0.6780\n",
      "Epoch 16/100\n",
      "100/100 [==============================] - 93s 933ms/step - loss: 0.5954 - acc: 0.6760 - val_loss: 0.5973 - val_acc: 0.6860\n",
      "Epoch 17/100\n",
      "100/100 [==============================] - 90s 904ms/step - loss: 0.5930 - acc: 0.6665 - val_loss: 0.5916 - val_acc: 0.6800\n",
      "Epoch 18/100\n",
      "100/100 [==============================] - 103s 1s/step - loss: 0.5931 - acc: 0.6800 - val_loss: 0.5803 - val_acc: 0.6840\n",
      "Epoch 19/100\n",
      "100/100 [==============================] - 99s 985ms/step - loss: 0.5858 - acc: 0.6900 - val_loss: 0.5779 - val_acc: 0.6770\n",
      "Epoch 20/100\n",
      "100/100 [==============================] - 101s 1s/step - loss: 0.5859 - acc: 0.6835 - val_loss: 0.5690 - val_acc: 0.6910\n",
      "Epoch 21/100\n",
      "100/100 [==============================] - 107s 1s/step - loss: 0.5753 - acc: 0.6895 - val_loss: 0.5884 - val_acc: 0.6880\n",
      "Epoch 22/100\n",
      "100/100 [==============================] - 120s 1s/step - loss: 0.5788 - acc: 0.6895 - val_loss: 0.5653 - val_acc: 0.6930\n",
      "Epoch 23/100\n",
      "100/100 [==============================] - 134s 1s/step - loss: 0.5668 - acc: 0.7125 - val_loss: 0.6133 - val_acc: 0.6780\n",
      "Epoch 24/100\n",
      "100/100 [==============================] - 143s 1s/step - loss: 0.5759 - acc: 0.6890 - val_loss: 0.5713 - val_acc: 0.6900\n",
      "Epoch 25/100\n",
      "100/100 [==============================] - 254s 3s/step - loss: 0.5650 - acc: 0.7070 - val_loss: 0.5608 - val_acc: 0.7150\n",
      "Epoch 26/100\n",
      "100/100 [==============================] - 120s 1s/step - loss: 0.5652 - acc: 0.7085 - val_loss: 0.5522 - val_acc: 0.6970\n",
      "Epoch 27/100\n",
      "100/100 [==============================] - 119s 1s/step - loss: 0.5657 - acc: 0.6985 - val_loss: 0.5597 - val_acc: 0.7090\n",
      "Epoch 28/100\n",
      "100/100 [==============================] - 106s 1s/step - loss: 0.5745 - acc: 0.6880 - val_loss: 0.5547 - val_acc: 0.7030\n",
      "Epoch 29/100\n",
      "100/100 [==============================] - 113s 1s/step - loss: 0.5618 - acc: 0.7020 - val_loss: 0.6242 - val_acc: 0.6780\n",
      "Epoch 30/100\n",
      "100/100 [==============================] - 112s 1s/step - loss: 0.5591 - acc: 0.7110 - val_loss: 0.5515 - val_acc: 0.7210\n",
      "Epoch 31/100\n",
      "100/100 [==============================] - 115s 1s/step - loss: 0.5512 - acc: 0.7075 - val_loss: 0.5429 - val_acc: 0.7170\n",
      "Epoch 32/100\n",
      "100/100 [==============================] - 115s 1s/step - loss: 0.5482 - acc: 0.7075 - val_loss: 0.5768 - val_acc: 0.6980\n",
      "Epoch 33/100\n",
      "100/100 [==============================] - 121s 1s/step - loss: 0.5472 - acc: 0.7145 - val_loss: 0.5451 - val_acc: 0.7320\n",
      "Epoch 34/100\n",
      "100/100 [==============================] - 119s 1s/step - loss: 0.5431 - acc: 0.7055 - val_loss: 0.5395 - val_acc: 0.7190\n",
      "Epoch 35/100\n",
      "100/100 [==============================] - 138s 1s/step - loss: 0.5524 - acc: 0.7105 - val_loss: 0.5344 - val_acc: 0.7140\n",
      "Epoch 36/100\n",
      "100/100 [==============================] - 124s 1s/step - loss: 0.5377 - acc: 0.7295 - val_loss: 0.5395 - val_acc: 0.7270\n",
      "Epoch 37/100\n",
      "100/100 [==============================] - 120s 1s/step - loss: 0.5379 - acc: 0.7250 - val_loss: 0.5266 - val_acc: 0.7290\n",
      "Epoch 38/100\n",
      "100/100 [==============================] - 115s 1s/step - loss: 0.5322 - acc: 0.7260 - val_loss: 0.5256 - val_acc: 0.7320\n",
      "Epoch 39/100\n",
      "100/100 [==============================] - 141s 1s/step - loss: 0.5388 - acc: 0.7190 - val_loss: 0.5191 - val_acc: 0.7330\n",
      "Epoch 40/100\n",
      "100/100 [==============================] - 117s 1s/step - loss: 0.5339 - acc: 0.7205 - val_loss: 0.5631 - val_acc: 0.7020\n",
      "Epoch 41/100\n",
      "100/100 [==============================] - 96s 966ms/step - loss: 0.5329 - acc: 0.7185 - val_loss: 0.5535 - val_acc: 0.7100\n",
      "Epoch 42/100\n",
      "100/100 [==============================] - 115s 1s/step - loss: 0.5308 - acc: 0.7215 - val_loss: 0.5748 - val_acc: 0.6960\n",
      "Epoch 43/100\n",
      "100/100 [==============================] - 126s 1s/step - loss: 0.5281 - acc: 0.7285 - val_loss: 0.5798 - val_acc: 0.6790\n",
      "Epoch 44/100\n",
      "100/100 [==============================] - 138s 1s/step - loss: 0.5297 - acc: 0.7375 - val_loss: 0.5536 - val_acc: 0.7260\n",
      "Epoch 45/100\n",
      "100/100 [==============================] - 128s 1s/step - loss: 0.5264 - acc: 0.7340 - val_loss: 0.5273 - val_acc: 0.7430\n",
      "Epoch 46/100\n",
      "100/100 [==============================] - 142s 1s/step - loss: 0.5181 - acc: 0.7355 - val_loss: 0.5522 - val_acc: 0.7260\n",
      "Epoch 47/100\n",
      "100/100 [==============================] - 116s 1s/step - loss: 0.5197 - acc: 0.7340 - val_loss: 0.5205 - val_acc: 0.7260\n",
      "Epoch 48/100\n",
      "100/100 [==============================] - 120s 1s/step - loss: 0.5245 - acc: 0.7285 - val_loss: 0.5212 - val_acc: 0.7410\n",
      "Epoch 49/100\n",
      "100/100 [==============================] - 126s 1s/step - loss: 0.5181 - acc: 0.7460 - val_loss: 0.5194 - val_acc: 0.7340\n",
      "Epoch 50/100\n",
      "100/100 [==============================] - 116s 1s/step - loss: 0.5181 - acc: 0.7445 - val_loss: 0.5315 - val_acc: 0.7360\n",
      "Epoch 51/100\n",
      "100/100 [==============================] - 128s 1s/step - loss: 0.5106 - acc: 0.7430 - val_loss: 0.6154 - val_acc: 0.6750\n",
      "Epoch 52/100\n",
      "100/100 [==============================] - 133s 1s/step - loss: 0.5175 - acc: 0.7410 - val_loss: 0.5503 - val_acc: 0.7360\n",
      "Epoch 53/100\n",
      "100/100 [==============================] - 141s 1s/step - loss: 0.5136 - acc: 0.7430 - val_loss: 0.6478 - val_acc: 0.6760\n",
      "Epoch 54/100\n",
      "100/100 [==============================] - 139s 1s/step - loss: 0.5209 - acc: 0.7365 - val_loss: 0.5081 - val_acc: 0.7590\n",
      "Epoch 55/100\n",
      "100/100 [==============================] - 145s 1s/step - loss: 0.5126 - acc: 0.7440 - val_loss: 0.5173 - val_acc: 0.7420\n",
      "Epoch 56/100\n",
      "100/100 [==============================] - 142s 1s/step - loss: 0.5156 - acc: 0.7390 - val_loss: 0.5148 - val_acc: 0.7390\n",
      "Epoch 57/100\n",
      "100/100 [==============================] - 140s 1s/step - loss: 0.5026 - acc: 0.7435 - val_loss: 0.5604 - val_acc: 0.7120\n",
      "Epoch 58/100\n",
      "100/100 [==============================] - 146s 1s/step - loss: 0.5023 - acc: 0.7575 - val_loss: 0.5009 - val_acc: 0.7520\n",
      "Epoch 59/100\n",
      "100/100 [==============================] - 137s 1s/step - loss: 0.4994 - acc: 0.7485 - val_loss: 0.5258 - val_acc: 0.7350\n",
      "Epoch 60/100\n",
      "100/100 [==============================] - 156s 2s/step - loss: 0.4921 - acc: 0.7525 - val_loss: 0.5986 - val_acc: 0.7170\n",
      "Epoch 61/100\n",
      "100/100 [==============================] - 169s 2s/step - loss: 0.5004 - acc: 0.7465 - val_loss: 0.5387 - val_acc: 0.7220\n",
      "Epoch 62/100\n",
      "100/100 [==============================] - 135s 1s/step - loss: 0.4998 - acc: 0.7520 - val_loss: 0.5141 - val_acc: 0.7420\n",
      "Epoch 63/100\n",
      "100/100 [==============================] - 146s 1s/step - loss: 0.4844 - acc: 0.7645 - val_loss: 0.5429 - val_acc: 0.7420\n",
      "Epoch 64/100\n",
      "100/100 [==============================] - 164s 2s/step - loss: 0.4994 - acc: 0.7590 - val_loss: 0.5256 - val_acc: 0.7320\n",
      "Epoch 65/100\n",
      "100/100 [==============================] - 125s 1s/step - loss: 0.4935 - acc: 0.7580 - val_loss: 0.5274 - val_acc: 0.7350\n",
      "Epoch 66/100\n",
      "100/100 [==============================] - 130s 1s/step - loss: 0.4946 - acc: 0.7625 - val_loss: 0.5681 - val_acc: 0.7190\n",
      "Epoch 67/100\n",
      "100/100 [==============================] - 161s 2s/step - loss: 0.4970 - acc: 0.7530 - val_loss: 0.5193 - val_acc: 0.7490\n",
      "Epoch 68/100\n",
      "100/100 [==============================] - 164s 2s/step - loss: 0.4921 - acc: 0.7680 - val_loss: 0.5356 - val_acc: 0.7150\n",
      "Epoch 69/100\n",
      "100/100 [==============================] - 152s 2s/step - loss: 0.4861 - acc: 0.7575 - val_loss: 0.5016 - val_acc: 0.7660\n",
      "Epoch 70/100\n",
      "100/100 [==============================] - 140s 1s/step - loss: 0.4925 - acc: 0.7520 - val_loss: 0.5218 - val_acc: 0.7290\n",
      "Epoch 71/100\n",
      "100/100 [==============================] - 135s 1s/step - loss: 0.4692 - acc: 0.7695 - val_loss: 0.5150 - val_acc: 0.7440\n",
      "Epoch 72/100\n",
      "100/100 [==============================] - 126s 1s/step - loss: 0.4838 - acc: 0.7620 - val_loss: 0.5203 - val_acc: 0.7520\n",
      "Epoch 73/100\n",
      "100/100 [==============================] - 132s 1s/step - loss: 0.4753 - acc: 0.7640 - val_loss: 0.5339 - val_acc: 0.7280\n",
      "Epoch 74/100\n",
      "100/100 [==============================] - 116s 1s/step - loss: 0.4844 - acc: 0.7635 - val_loss: 0.4995 - val_acc: 0.7640\n",
      "Epoch 75/100\n",
      "100/100 [==============================] - 159s 2s/step - loss: 0.4752 - acc: 0.7660 - val_loss: 0.5432 - val_acc: 0.7200\n",
      "Epoch 76/100\n",
      "100/100 [==============================] - 151s 2s/step - loss: 0.4861 - acc: 0.7565 - val_loss: 0.5139 - val_acc: 0.7580\n",
      "Epoch 77/100\n",
      "100/100 [==============================] - 129s 1s/step - loss: 0.4745 - acc: 0.7625 - val_loss: 0.5419 - val_acc: 0.7240\n",
      "Epoch 78/100\n",
      "100/100 [==============================] - 142s 1s/step - loss: 0.4771 - acc: 0.7575 - val_loss: 0.5007 - val_acc: 0.7520\n",
      "Epoch 79/100\n",
      "100/100 [==============================] - 157s 2s/step - loss: 0.4765 - acc: 0.7625 - val_loss: 0.5343 - val_acc: 0.7430\n",
      "Epoch 80/100\n",
      "100/100 [==============================] - 113s 1s/step - loss: 0.4784 - acc: 0.7690 - val_loss: 0.5376 - val_acc: 0.7490\n",
      "Epoch 81/100\n",
      "100/100 [==============================] - 144s 1s/step - loss: 0.4831 - acc: 0.7665 - val_loss: 0.5126 - val_acc: 0.7530\n",
      "Epoch 82/100\n",
      "100/100 [==============================] - 158s 2s/step - loss: 0.4649 - acc: 0.7705 - val_loss: 0.5702 - val_acc: 0.7080\n",
      "Epoch 83/100\n",
      "100/100 [==============================] - 128s 1s/step - loss: 0.4700 - acc: 0.7625 - val_loss: 0.5305 - val_acc: 0.7540\n",
      "Epoch 84/100\n",
      "100/100 [==============================] - 141s 1s/step - loss: 0.4718 - acc: 0.7700 - val_loss: 0.5010 - val_acc: 0.7630\n",
      "Epoch 85/100\n",
      "100/100 [==============================] - 145s 1s/step - loss: 0.4591 - acc: 0.7775 - val_loss: 0.5486 - val_acc: 0.7320\n",
      "Epoch 86/100\n",
      "100/100 [==============================] - 135s 1s/step - loss: 0.4749 - acc: 0.7735 - val_loss: 0.5415 - val_acc: 0.7260\n",
      "Epoch 87/100\n",
      "100/100 [==============================] - 152s 2s/step - loss: 0.4603 - acc: 0.7810 - val_loss: 0.5053 - val_acc: 0.7580\n",
      "Epoch 88/100\n",
      "100/100 [==============================] - 124s 1s/step - loss: 0.4581 - acc: 0.7700 - val_loss: 0.5909 - val_acc: 0.6970\n",
      "Epoch 89/100\n",
      "100/100 [==============================] - 143s 1s/step - loss: 0.4510 - acc: 0.7835 - val_loss: 0.5186 - val_acc: 0.7520\n",
      "Epoch 90/100\n",
      "100/100 [==============================] - 153s 2s/step - loss: 0.4586 - acc: 0.7720 - val_loss: 0.4918 - val_acc: 0.7670\n",
      "Epoch 91/100\n",
      "100/100 [==============================] - 108s 1s/step - loss: 0.4590 - acc: 0.7805 - val_loss: 0.5133 - val_acc: 0.7560\n",
      "Epoch 92/100\n",
      "100/100 [==============================] - 122s 1s/step - loss: 0.4469 - acc: 0.7880 - val_loss: 0.5966 - val_acc: 0.7260\n",
      "Epoch 93/100\n",
      "100/100 [==============================] - 168s 2s/step - loss: 0.4565 - acc: 0.7745 - val_loss: 0.4928 - val_acc: 0.7660\n",
      "Epoch 94/100\n",
      "100/100 [==============================] - 126s 1s/step - loss: 0.4582 - acc: 0.7780 - val_loss: 0.5100 - val_acc: 0.7560\n",
      "Epoch 95/100\n",
      "100/100 [==============================] - 148s 1s/step - loss: 0.4567 - acc: 0.7825 - val_loss: 0.4977 - val_acc: 0.7620\n",
      "Epoch 96/100\n",
      "100/100 [==============================] - 104s 1s/step - loss: 0.4588 - acc: 0.7795 - val_loss: 0.5354 - val_acc: 0.7380\n",
      "Epoch 97/100\n",
      "100/100 [==============================] - 106s 1s/step - loss: 0.4506 - acc: 0.7795 - val_loss: 0.4894 - val_acc: 0.7720\n",
      "Epoch 98/100\n",
      "100/100 [==============================] - 122s 1s/step - loss: 0.4631 - acc: 0.7775 - val_loss: 0.5426 - val_acc: 0.7490\n",
      "Epoch 99/100\n",
      "100/100 [==============================] - 121s 1s/step - loss: 0.4482 - acc: 0.7825 - val_loss: 0.5143 - val_acc: 0.7560\n",
      "Epoch 100/100\n",
      "100/100 [==============================] - 111s 1s/step - loss: 0.4485 - acc: 0.7895 - val_loss: 0.5094 - val_acc: 0.7580\n"
     ]
    }
   ],
   "source": [
    "history = model.fit_generator(train_generator,steps_per_epoch=100,epochs=100,validation_data=validation_generator,validation_steps=50)"
   ]
  },
  {
   "cell_type": "markdown",
   "id": "7701f0b1",
   "metadata": {},
   "source": [
    "#### Visualizing Training Results"
   ]
  },
  {
   "cell_type": "code",
   "execution_count": 65,
   "id": "36c8d6fc",
   "metadata": {},
   "outputs": [
    {
     "data": {
      "image/png": "[encoded data removed]",
      "text/plain": [
       "<Figure size 640x480 with 1 Axes>"
      ]
     },
     "metadata": {},
     "output_type": "display_data"
    },
    {
     "data": {
      "image/png": "[encoded data removed]",
      "text/plain": [
       "<Figure size 640x480 with 1 Axes>"
      ]
     },
     "metadata": {},
     "output_type": "display_data"
    }
   ],
   "source": [
    "acc = history.history['acc']\n",
    "val_acc = history.history['val_acc']\n",
    "loss = history.history['loss']\n",
    "val_loss = history.history['val_loss']\n",
    "epochs = range(1, len(acc) + 1)\n",
    "plt.plot(epochs, acc, 'bo', label='Training acc')\n",
    "plt.plot(epochs, val_acc, 'b', label='Validation acc')\n",
    "plt.title('Training and validation accuracy')\n",
    "plt.legend()\n",
    "plt.figure()\n",
    "plt.plot(epochs, loss, 'bo', label='Training loss')\n",
    "plt.plot(epochs, val_loss, 'b', label='Validation loss')\n",
    "plt.title('Training and validation loss')\n",
    "plt.legend()\n",
    "plt.show()\n"
   ]
  },
  {
   "cell_type": "markdown",
   "id": "9a0ae781",
   "metadata": {},
   "source": [
    "# ========================================================"
   ]
  },
  {
   "cell_type": "markdown",
   "id": "e27ffce6",
   "metadata": {},
   "source": [
    "####  Now Using Pretraind Model VGG16 For better Results"
   ]
  },
  {
   "cell_type": "markdown",
   "id": "b659b78e",
   "metadata": {},
   "source": [
    "####  Importing VGG16"
   ]
  },
  {
   "cell_type": "code",
   "execution_count": 7,
   "id": "35f77a92",
   "metadata": {},
   "outputs": [],
   "source": [
    "from tensorflow.keras.applications import VGG16"
   ]
  },
  {
   "cell_type": "markdown",
   "id": "8190d17c",
   "metadata": {},
   "source": [
    "####  Loading VGG16"
   ]
  },
  {
   "cell_type": "code",
   "execution_count": 8,
   "id": "6f46625f",
   "metadata": {},
   "outputs": [],
   "source": [
    "conv = VGG16(weights='imagenet',include_top=False,input_shape=(150, 150, 3))"
   ]
  },
  {
   "cell_type": "markdown",
   "id": "c36c9c27",
   "metadata": {},
   "source": [
    "#### Summary"
   ]
  },
  {
   "cell_type": "code",
   "execution_count": 9,
   "id": "3e2aab98",
   "metadata": {},
   "outputs": [
    {
     "name": "stdout",
     "output_type": "stream",
     "text": [
      "Model: \"vgg16\"\n",
      "_________________________________________________________________\n",
      " Layer (type)                Output Shape              Param #   \n",
      "=================================================================\n",
      " input_1 (InputLayer)        [(None, 150, 150, 3)]     0         \n",
      "                                                                 \n",
      " block1_conv1 (Conv2D)       (None, 150, 150, 64)      1792      \n",
      "                                                                 \n",
      " block1_conv2 (Conv2D)       (None, 150, 150, 64)      36928     \n",
      "                                                                 \n",
      " block1_pool (MaxPooling2D)  (None, 75, 75, 64)        0         \n",
      "                                                                 \n",
      " block2_conv1 (Conv2D)       (None, 75, 75, 128)       73856     \n",
      "                                                                 \n",
      " block2_conv2 (Conv2D)       (None, 75, 75, 128)       147584    \n",
      "                                                                 \n",
      " block2_pool (MaxPooling2D)  (None, 37, 37, 128)       0         \n",
      "                                                                 \n",
      " block3_conv1 (Conv2D)       (None, 37, 37, 256)       295168    \n",
      "                                                                 \n",
      " block3_conv2 (Conv2D)       (None, 37, 37, 256)       590080    \n",
      "                                                                 \n",
      " block3_conv3 (Conv2D)       (None, 37, 37, 256)       590080    \n",
      "                                                                 \n",
      " block3_pool (MaxPooling2D)  (None, 18, 18, 256)       0         \n",
      "                                                                 \n",
      " block4_conv1 (Conv2D)       (None, 18, 18, 512)       1180160   \n",
      "                                                                 \n",
      " block4_conv2 (Conv2D)       (None, 18, 18, 512)       2359808   \n",
      "                                                                 \n",
      " block4_conv3 (Conv2D)       (None, 18, 18, 512)       2359808   \n",
      "                                                                 \n",
      " block4_pool (MaxPooling2D)  (None, 9, 9, 512)         0         \n",
      "                                                                 \n",
      " block5_conv1 (Conv2D)       (None, 9, 9, 512)         2359808   \n",
      "                                                                 \n",
      " block5_conv2 (Conv2D)       (None, 9, 9, 512)         2359808   \n",
      "                                                                 \n",
      " block5_conv3 (Conv2D)       (None, 9, 9, 512)         2359808   \n",
      "                                                                 \n",
      " block5_pool (MaxPooling2D)  (None, 4, 4, 512)         0         \n",
      "                                                                 \n",
      "=================================================================\n",
      "Total params: 14714688 (56.13 MB)\n",
      "Trainable params: 14714688 (56.13 MB)\n",
      "Non-trainable params: 0 (0.00 Byte)\n",
      "_________________________________________________________________\n"
     ]
    }
   ],
   "source": [
    "conv.summary()"
   ]
  },
  {
   "cell_type": "markdown",
   "id": "10d1063e",
   "metadata": {},
   "source": [
    "#### Using Generators and Make Feature Extraction Method"
   ]
  },
  {
   "cell_type": "code",
   "execution_count": 10,
   "id": "70509d31",
   "metadata": {},
   "outputs": [],
   "source": [
    "data_gen = ImageDataGenerator(rescale=1./255)\n",
    "batch_size = 20\n",
    "\n",
    "\n",
    "def feature_extraction(directory, sample_count):\n",
    "    features = np.zeros(shape=(sample_count, 4, 4, 512))\n",
    "    labels = np.zeros(shape=(sample_count))\n",
    "    generator = data_gen.flow_from_directory(directory,target_size=(150, 150),batch_size=batch_size,class_mode='binary')\n",
    "    i = 0\n",
    "    for inputs_batch, labels_batch in generator:\n",
    "        features_batch = conv.predict(inputs_batch)\n",
    "        features[i * batch_size : (i + 1) * batch_size] = features_batch\n",
    "        labels[i * batch_size : (i + 1) * batch_size] = labels_batch\n",
    "        i += 1\n",
    "        if i * batch_size >= sample_count:\n",
    "            break\n",
    "    return features, labels\n",
    "        \n",
    "        \n",
    "    \n",
    "    \n",
    "    "
   ]
  },
  {
   "cell_type": "markdown",
   "id": "6ca06d74",
   "metadata": {},
   "source": [
    "#### Apply Feature Extraction On Training,Test and Validation Data"
   ]
  },
  {
   "cell_type": "code",
   "execution_count": 31,
   "id": "709d1616",
   "metadata": {},
   "outputs": [
    {
     "name": "stdout",
     "output_type": "stream",
     "text": [
      "Found 2000 images belonging to 2 classes.\n",
      "1/1 [==============================] - 2s 2s/step\n",
      "1/1 [==============================] - 2s 2s/step\n",
      "1/1 [==============================] - 3s 3s/step\n",
      "1/1 [==============================] - 3s 3s/step\n",
      "1/1 [==============================] - 4s 4s/step\n",
      "1/1 [==============================] - 5s 5s/step\n",
      "1/1 [==============================] - 5s 5s/step\n",
      "1/1 [==============================] - 3s 3s/step\n",
      "1/1 [==============================] - 3s 3s/step\n",
      "1/1 [==============================] - 3s 3s/step\n",
      "1/1 [==============================] - 3s 3s/step\n",
      "1/1 [==============================] - 5s 5s/step\n",
      "1/1 [==============================] - 6s 6s/step\n",
      "1/1 [==============================] - 5s 5s/step\n",
      "1/1 [==============================] - 6s 6s/step\n",
      "1/1 [==============================] - 6s 6s/step\n",
      "1/1 [==============================] - 6s 6s/step\n",
      "1/1 [==============================] - 5s 5s/step\n",
      "1/1 [==============================] - 6s 6s/step\n",
      "1/1 [==============================] - 5s 5s/step\n",
      "1/1 [==============================] - 6s 6s/step\n",
      "1/1 [==============================] - 6s 6s/step\n",
      "1/1 [==============================] - 5s 5s/step\n",
      "1/1 [==============================] - 5s 5s/step\n",
      "1/1 [==============================] - 5s 5s/step\n",
      "1/1 [==============================] - 2s 2s/step\n",
      "1/1 [==============================] - 3s 3s/step\n",
      "1/1 [==============================] - 3s 3s/step\n",
      "1/1 [==============================] - 3s 3s/step\n",
      "1/1 [==============================] - 5s 5s/step\n",
      "1/1 [==============================] - 7s 7s/step\n",
      "1/1 [==============================] - 5s 5s/step\n",
      "1/1 [==============================] - 5s 5s/step\n",
      "1/1 [==============================] - 3s 3s/step\n",
      "1/1 [==============================] - 3s 3s/step\n",
      "1/1 [==============================] - 3s 3s/step\n",
      "1/1 [==============================] - 3s 3s/step\n",
      "1/1 [==============================] - 5s 5s/step\n",
      "1/1 [==============================] - 6s 6s/step\n",
      "1/1 [==============================] - 5s 5s/step\n",
      "1/1 [==============================] - 6s 6s/step\n",
      "1/1 [==============================] - 4s 4s/step\n",
      "1/1 [==============================] - 2s 2s/step\n",
      "1/1 [==============================] - 3s 3s/step\n",
      "1/1 [==============================] - 3s 3s/step\n",
      "1/1 [==============================] - 3s 3s/step\n",
      "1/1 [==============================] - 5s 5s/step\n",
      "1/1 [==============================] - 8s 8s/step\n",
      "1/1 [==============================] - 6s 6s/step\n",
      "1/1 [==============================] - 7s 7s/step\n",
      "1/1 [==============================] - 6s 6s/step\n",
      "1/1 [==============================] - 6s 6s/step\n",
      "1/1 [==============================] - 6s 6s/step\n",
      "1/1 [==============================] - 6s 6s/step\n",
      "1/1 [==============================] - 2s 2s/step\n",
      "1/1 [==============================] - 3s 3s/step\n",
      "1/1 [==============================] - 3s 3s/step\n",
      "1/1 [==============================] - 3s 3s/step\n",
      "1/1 [==============================] - 4s 4s/step\n",
      "1/1 [==============================] - 6s 6s/step\n",
      "1/1 [==============================] - 6s 6s/step\n",
      "1/1 [==============================] - 3s 3s/step\n",
      "1/1 [==============================] - 3s 3s/step\n",
      "1/1 [==============================] - 3s 3s/step\n",
      "1/1 [==============================] - 3s 3s/step\n",
      "1/1 [==============================] - 4s 4s/step\n",
      "1/1 [==============================] - 5s 5s/step\n",
      "1/1 [==============================] - 6s 6s/step\n",
      "1/1 [==============================] - 8s 8s/step\n",
      "1/1 [==============================] - 6s 6s/step\n",
      "1/1 [==============================] - 6s 6s/step\n",
      "1/1 [==============================] - 6s 6s/step\n",
      "1/1 [==============================] - 5s 5s/step\n",
      "1/1 [==============================] - 7s 7s/step\n",
      "1/1 [==============================] - 6s 6s/step\n",
      "1/1 [==============================] - 6s 6s/step\n",
      "1/1 [==============================] - 3s 3s/step\n",
      "1/1 [==============================] - 3s 3s/step\n",
      "1/1 [==============================] - 3s 3s/step\n",
      "1/1 [==============================] - 3s 3s/step\n",
      "1/1 [==============================] - 3s 3s/step\n",
      "1/1 [==============================] - 5s 5s/step\n",
      "1/1 [==============================] - 7s 7s/step\n",
      "1/1 [==============================] - 6s 6s/step\n",
      "1/1 [==============================] - 5s 5s/step\n",
      "1/1 [==============================] - 6s 6s/step\n",
      "1/1 [==============================] - 6s 6s/step\n",
      "1/1 [==============================] - 6s 6s/step\n",
      "1/1 [==============================] - 7s 7s/step\n",
      "1/1 [==============================] - 2s 2s/step\n",
      "1/1 [==============================] - 3s 3s/step\n",
      "1/1 [==============================] - 3s 3s/step\n",
      "1/1 [==============================] - 3s 3s/step\n",
      "1/1 [==============================] - 5s 5s/step\n",
      "1/1 [==============================] - 5s 5s/step\n",
      "1/1 [==============================] - 5s 5s/step\n",
      "1/1 [==============================] - 7s 7s/step\n",
      "1/1 [==============================] - 8s 8s/step\n",
      "1/1 [==============================] - 9s 9s/step\n",
      "1/1 [==============================] - 4s 4s/step\n",
      "============================================================\n",
      "Found 1000 images belonging to 2 classes.\n",
      "1/1 [==============================] - 4s 4s/step\n",
      "1/1 [==============================] - 6s 6s/step\n",
      "1/1 [==============================] - 11s 11s/step\n",
      "1/1 [==============================] - 10s 10s/step\n",
      "1/1 [==============================] - 9s 9s/step\n",
      "1/1 [==============================] - 7s 7s/step\n",
      "1/1 [==============================] - 4s 4s/step\n",
      "1/1 [==============================] - 5s 5s/step\n",
      "1/1 [==============================] - 8s 8s/step\n",
      "1/1 [==============================] - 10s 10s/step\n",
      "1/1 [==============================] - 7s 7s/step\n",
      "1/1 [==============================] - 10s 10s/step\n",
      "1/1 [==============================] - 7s 7s/step\n",
      "1/1 [==============================] - 9s 9s/step\n",
      "1/1 [==============================] - 8s 8s/step\n",
      "1/1 [==============================] - 8s 8s/step\n",
      "1/1 [==============================] - 11s 11s/step\n",
      "1/1 [==============================] - 9s 9s/step\n",
      "1/1 [==============================] - 11s 11s/step\n",
      "1/1 [==============================] - 6s 6s/step\n",
      "1/1 [==============================] - 5s 5s/step\n",
      "1/1 [==============================] - 4s 4s/step\n",
      "1/1 [==============================] - 8s 8s/step\n",
      "1/1 [==============================] - 8s 8s/step\n",
      "1/1 [==============================] - 7s 7s/step\n",
      "1/1 [==============================] - 7s 7s/step\n",
      "1/1 [==============================] - 9s 9s/step\n",
      "1/1 [==============================] - 8s 8s/step\n",
      "1/1 [==============================] - 8s 8s/step\n",
      "1/1 [==============================] - 8s 8s/step\n",
      "1/1 [==============================] - 9s 9s/step\n",
      "1/1 [==============================] - 8s 8s/step\n",
      "1/1 [==============================] - 8s 8s/step\n",
      "1/1 [==============================] - 8s 8s/step\n",
      "1/1 [==============================] - 8s 8s/step\n",
      "1/1 [==============================] - 8s 8s/step\n",
      "1/1 [==============================] - 8s 8s/step\n",
      "1/1 [==============================] - 8s 8s/step\n",
      "1/1 [==============================] - 8s 8s/step\n",
      "1/1 [==============================] - 7s 7s/step\n",
      "1/1 [==============================] - 8s 8s/step\n",
      "1/1 [==============================] - 7s 7s/step\n",
      "1/1 [==============================] - 4s 4s/step\n",
      "1/1 [==============================] - 3s 3s/step\n",
      "1/1 [==============================] - 3s 3s/step\n",
      "1/1 [==============================] - 4s 4s/step\n",
      "1/1 [==============================] - 7s 7s/step\n",
      "1/1 [==============================] - 8s 8s/step\n",
      "1/1 [==============================] - 9s 9s/step\n",
      "1/1 [==============================] - 8s 8s/step\n",
      "============================================================\n",
      "Found 1000 images belonging to 2 classes.\n",
      "1/1 [==============================] - 8s 8s/step\n",
      "1/1 [==============================] - 8s 8s/step\n",
      "1/1 [==============================] - 9s 9s/step\n",
      "1/1 [==============================] - 8s 8s/step\n",
      "1/1 [==============================] - 8s 8s/step\n",
      "1/1 [==============================] - 8s 8s/step\n",
      "1/1 [==============================] - 8s 8s/step\n",
      "1/1 [==============================] - 8s 8s/step\n",
      "1/1 [==============================] - 7s 7s/step\n",
      "1/1 [==============================] - 8s 8s/step\n",
      "1/1 [==============================] - 7s 7s/step\n",
      "1/1 [==============================] - 8s 8s/step\n",
      "1/1 [==============================] - 9s 9s/step\n",
      "1/1 [==============================] - 9s 9s/step\n",
      "1/1 [==============================] - 9s 9s/step\n",
      "1/1 [==============================] - 9s 9s/step\n",
      "1/1 [==============================] - 8s 8s/step\n",
      "1/1 [==============================] - 8s 8s/step\n",
      "1/1 [==============================] - 9s 9s/step\n",
      "1/1 [==============================] - 4s 4s/step\n",
      "1/1 [==============================] - 4s 4s/step\n",
      "1/1 [==============================] - 3s 3s/step\n",
      "1/1 [==============================] - 3s 3s/step\n",
      "1/1 [==============================] - 6s 6s/step\n",
      "1/1 [==============================] - 10s 10s/step\n",
      "1/1 [==============================] - 7s 7s/step\n",
      "1/1 [==============================] - 9s 9s/step\n",
      "1/1 [==============================] - 8s 8s/step\n",
      "1/1 [==============================] - 7s 7s/step\n",
      "1/1 [==============================] - 9s 9s/step\n",
      "1/1 [==============================] - 10s 10s/step\n",
      "1/1 [==============================] - 9s 9s/step\n",
      "1/1 [==============================] - 9s 9s/step\n",
      "1/1 [==============================] - 8s 8s/step\n",
      "1/1 [==============================] - 9s 9s/step\n",
      "1/1 [==============================] - 8s 8s/step\n",
      "1/1 [==============================] - 8s 8s/step\n",
      "1/1 [==============================] - 8s 8s/step\n",
      "1/1 [==============================] - 9s 9s/step\n",
      "1/1 [==============================] - 9s 9s/step\n",
      "1/1 [==============================] - 8s 8s/step\n",
      "1/1 [==============================] - 6s 6s/step\n",
      "1/1 [==============================] - 4s 4s/step\n",
      "1/1 [==============================] - 3s 3s/step\n",
      "1/1 [==============================] - 4s 4s/step\n",
      "1/1 [==============================] - 4s 4s/step\n",
      "1/1 [==============================] - 9s 9s/step\n",
      "1/1 [==============================] - 8s 8s/step\n",
      "1/1 [==============================] - 8s 8s/step\n",
      "1/1 [==============================] - 9s 9s/step\n"
     ]
    }
   ],
   "source": [
    "train_features,train_labels = feature_extraction(train_dir,2000)\n",
    "print('============================================================')\n",
    "test_features,test_labels = feature_extraction(test_dir,1000)\n",
    "print('============================================================')\n",
    "validation_features,validation_labels = feature_extraction(validation_dir,1000)"
   ]
  },
  {
   "cell_type": "markdown",
   "id": "0eee11b3",
   "metadata": {},
   "source": [
    "#### Reshape Feature Extraction array into 1D"
   ]
  },
  {
   "cell_type": "code",
   "execution_count": 34,
   "id": "ca2183e5",
   "metadata": {},
   "outputs": [],
   "source": [
    "train_features = np.reshape(train_features, (2000, 4 * 4 * 512))\n",
    "test_features = np.reshape(test_features,(1000,4*4*512))\n",
    "validation_features = np.reshape(validation_features,(1000,4*4*512))"
   ]
  },
  {
   "cell_type": "markdown",
   "id": "7ffbbe41",
   "metadata": {},
   "source": [
    "####  Model Architecture"
   ]
  },
  {
   "cell_type": "code",
   "execution_count": 45,
   "id": "0f2cc623",
   "metadata": {},
   "outputs": [],
   "source": [
    "model= models.Sequential()\n",
    "model.add(layers.Flatten())\n",
    "# model.add(layers.Dense(256,activation='relu',input_dim=(4*4*512)))\n",
    "model.add(layers.Dense(256,activation='relu'))\n",
    "model.add(layers.Dropout(0.5))\n",
    "model.add(layers.Dense(1,activation='sigmoid'))\n",
    "model.compile(optimizer=optimizers.RMSprop(learning_rate=2e-5),loss='binary_crossentropy',metrics=['acc'])"
   ]
  },
  {
   "cell_type": "markdown",
   "id": "bed3a56d",
   "metadata": {},
   "source": [
    "####  Training Model on Extracted Features"
   ]
  },
  {
   "cell_type": "code",
   "execution_count": 46,
   "id": "4358540b",
   "metadata": {},
   "outputs": [
    {
     "name": "stdout",
     "output_type": "stream",
     "text": [
      "Epoch 1/30\n",
      "63/63 [==============================] - 2s 27ms/step - loss: 0.5912 - acc: 0.6870 - val_loss: 0.4575 - val_acc: 0.8470\n",
      "Epoch 2/30\n",
      "63/63 [==============================] - 2s 26ms/step - loss: 0.4461 - acc: 0.8010 - val_loss: 0.3811 - val_acc: 0.8630\n",
      "Epoch 3/30\n",
      "63/63 [==============================] - 2s 25ms/step - loss: 0.3781 - acc: 0.8380 - val_loss: 0.3398 - val_acc: 0.8790\n",
      "Epoch 4/30\n",
      "63/63 [==============================] - 2s 24ms/step - loss: 0.3324 - acc: 0.8650 - val_loss: 0.3171 - val_acc: 0.8870\n",
      "Epoch 5/30\n",
      "63/63 [==============================] - 2s 24ms/step - loss: 0.3024 - acc: 0.8770 - val_loss: 0.3021 - val_acc: 0.8870\n",
      "Epoch 6/30\n",
      "63/63 [==============================] - 2s 24ms/step - loss: 0.2868 - acc: 0.8860 - val_loss: 0.2828 - val_acc: 0.8930\n",
      "Epoch 7/30\n",
      "63/63 [==============================] - 1s 24ms/step - loss: 0.2689 - acc: 0.8895 - val_loss: 0.2731 - val_acc: 0.8940\n",
      "Epoch 8/30\n",
      "63/63 [==============================] - 2s 24ms/step - loss: 0.2504 - acc: 0.9135 - val_loss: 0.2657 - val_acc: 0.9000\n",
      "Epoch 9/30\n",
      "63/63 [==============================] - 2s 26ms/step - loss: 0.2411 - acc: 0.9125 - val_loss: 0.2589 - val_acc: 0.9010\n",
      "Epoch 10/30\n",
      "63/63 [==============================] - 2s 25ms/step - loss: 0.2260 - acc: 0.9180 - val_loss: 0.2624 - val_acc: 0.8980\n",
      "Epoch 11/30\n",
      "63/63 [==============================] - 2s 24ms/step - loss: 0.2192 - acc: 0.9180 - val_loss: 0.2498 - val_acc: 0.9030\n",
      "Epoch 12/30\n",
      "63/63 [==============================] - 2s 29ms/step - loss: 0.1967 - acc: 0.9260 - val_loss: 0.2546 - val_acc: 0.8960\n",
      "Epoch 13/30\n",
      "63/63 [==============================] - 2s 29ms/step - loss: 0.1959 - acc: 0.9280 - val_loss: 0.2421 - val_acc: 0.9010\n",
      "Epoch 14/30\n",
      "63/63 [==============================] - 2s 31ms/step - loss: 0.1860 - acc: 0.9290 - val_loss: 0.2464 - val_acc: 0.9010\n",
      "Epoch 15/30\n",
      "63/63 [==============================] - 2s 34ms/step - loss: 0.1820 - acc: 0.9340 - val_loss: 0.2497 - val_acc: 0.8960\n",
      "Epoch 16/30\n",
      "63/63 [==============================] - 2s 35ms/step - loss: 0.1724 - acc: 0.9410 - val_loss: 0.2374 - val_acc: 0.9040\n",
      "Epoch 17/30\n",
      "63/63 [==============================] - 2s 36ms/step - loss: 0.1655 - acc: 0.9410 - val_loss: 0.2421 - val_acc: 0.9040\n",
      "Epoch 18/30\n",
      "63/63 [==============================] - 2s 34ms/step - loss: 0.1632 - acc: 0.9440 - val_loss: 0.2395 - val_acc: 0.9020\n",
      "Epoch 19/30\n",
      "63/63 [==============================] - 3s 47ms/step - loss: 0.1568 - acc: 0.9485 - val_loss: 0.2333 - val_acc: 0.9050\n",
      "Epoch 20/30\n",
      "63/63 [==============================] - 3s 46ms/step - loss: 0.1548 - acc: 0.9450 - val_loss: 0.2320 - val_acc: 0.9080\n",
      "Epoch 21/30\n",
      "63/63 [==============================] - 2s 39ms/step - loss: 0.1549 - acc: 0.9505 - val_loss: 0.2365 - val_acc: 0.9040\n",
      "Epoch 22/30\n",
      "63/63 [==============================] - 2s 36ms/step - loss: 0.1427 - acc: 0.9525 - val_loss: 0.2388 - val_acc: 0.9040\n",
      "Epoch 23/30\n",
      "63/63 [==============================] - 2s 35ms/step - loss: 0.1448 - acc: 0.9495 - val_loss: 0.2327 - val_acc: 0.9060\n",
      "Epoch 24/30\n",
      "63/63 [==============================] - 2s 33ms/step - loss: 0.1290 - acc: 0.9560 - val_loss: 0.2356 - val_acc: 0.9030\n",
      "Epoch 25/30\n",
      "63/63 [==============================] - 2s 33ms/step - loss: 0.1265 - acc: 0.9595 - val_loss: 0.2299 - val_acc: 0.9040\n",
      "Epoch 26/30\n",
      "63/63 [==============================] - 2s 37ms/step - loss: 0.1280 - acc: 0.9570 - val_loss: 0.2301 - val_acc: 0.9050\n",
      "Epoch 27/30\n",
      "63/63 [==============================] - 3s 41ms/step - loss: 0.1211 - acc: 0.9590 - val_loss: 0.2399 - val_acc: 0.8990\n",
      "Epoch 28/30\n",
      "63/63 [==============================] - 3s 44ms/step - loss: 0.1172 - acc: 0.9650 - val_loss: 0.2294 - val_acc: 0.9050\n",
      "Epoch 29/30\n",
      "63/63 [==============================] - 3s 48ms/step - loss: 0.1139 - acc: 0.9620 - val_loss: 0.2298 - val_acc: 0.9050\n",
      "Epoch 30/30\n",
      "63/63 [==============================] - 3s 51ms/step - loss: 0.1106 - acc: 0.9650 - val_loss: 0.2371 - val_acc: 0.9020\n"
     ]
    }
   ],
   "source": [
    "history = model.fit(train_features,train_labels,epochs=30,validation_data=(validation_features,validation_labels))"
   ]
  },
  {
   "cell_type": "markdown",
   "id": "d249ba2c",
   "metadata": {},
   "source": [
    "#### Visualizing Training Results"
   ]
  },
  {
   "cell_type": "code",
   "execution_count": 43,
   "id": "ce7dbe8f",
   "metadata": {},
   "outputs": [
    {
     "data": {
      "image/png": "[encoded data removed]",
      "text/plain": [
       "<Figure size 640x480 with 1 Axes>"
      ]
     },
     "metadata": {},
     "output_type": "display_data"
    },
    {
     "data": {
      "image/png": "[encoded data removed]",
      "text/plain": [
       "<Figure size 640x480 with 1 Axes>"
      ]
     },
     "metadata": {},
     "output_type": "display_data"
    }
   ],
   "source": [
    "acc = history.history['acc']\n",
    "val_acc = history.history['val_acc']\n",
    "loss = history.history['loss']\n",
    "val_loss = history.history['val_loss']\n",
    "epochs = range(1, len(acc) + 1)\n",
    "plt.plot(epochs, acc, 'bo', label='Training acc')\n",
    "plt.plot(epochs, val_acc, 'b', label='Validation acc')\n",
    "plt.title('Training and validation accuracy')\n",
    "plt.legend()\n",
    "plt.figure()\n",
    "plt.plot(epochs, loss, 'bo', label='Training loss')\n",
    "plt.plot(epochs, val_loss, 'b', label='Validation loss')\n",
    "plt.title('Training and validation loss')\n",
    "plt.legend()\n",
    "plt.show()"
   ]
  },
  {
   "cell_type": "markdown",
   "id": "98636e2b",
   "metadata": {},
   "source": [
    "================================================================================================================="
   ]
  },
  {
   "cell_type": "markdown",
   "id": "eec4338c",
   "metadata": {},
   "source": [
    "####  Apply Fine Tunning"
   ]
  },
  {
   "cell_type": "code",
   "execution_count": 27,
   "id": "7dbc43d5",
   "metadata": {},
   "outputs": [],
   "source": [
    "model = models.Sequential()\n",
    "model.add(conv)\n",
    "model.add(layers.Flatten())\n",
    "model.add(layers.Dense(512,activation='relu'))\n",
    "model.add(layers.Dropout(0.5))\n",
    "model.add(layers.Dense(1,activation='sigmoid'))\n",
    "\n",
    "model.compile(optimizer=optimizers.RMSprop(learning_rate=2e-5),loss='binary_crossentropy',metrics=['acc'])"
   ]
  },
  {
   "cell_type": "code",
   "execution_count": 12,
   "id": "72af023f",
   "metadata": {},
   "outputs": [
    {
     "name": "stdout",
     "output_type": "stream",
     "text": [
      "Model: \"sequential\"\n",
      "_________________________________________________________________\n",
      " Layer (type)                Output Shape              Param #   \n",
      "=================================================================\n",
      " vgg16 (Functional)          (None, 4, 4, 512)         14714688  \n",
      "                                                                 \n",
      " flatten (Flatten)           (None, 8192)              0         \n",
      "                                                                 \n",
      " dense (Dense)               (None, 512)               4194816   \n",
      "                                                                 \n",
      " dropout (Dropout)           (None, 512)               0         \n",
      "                                                                 \n",
      " dense_1 (Dense)             (None, 1)                 513       \n",
      "                                                                 \n",
      "=================================================================\n",
      "Total params: 18910017 (72.14 MB)\n",
      "Trainable params: 18910017 (72.14 MB)\n",
      "Non-trainable params: 0 (0.00 Byte)\n",
      "_________________________________________________________________\n"
     ]
    }
   ],
   "source": [
    "model.summary()"
   ]
  },
  {
   "cell_type": "markdown",
   "id": "44afc301",
   "metadata": {},
   "source": [
    "####  Checking Trainable Weights Of the Model"
   ]
  },
  {
   "cell_type": "code",
   "execution_count": 13,
   "id": "14087abf",
   "metadata": {},
   "outputs": [
    {
     "name": "stdout",
     "output_type": "stream",
     "text": [
      "30\n"
     ]
    }
   ],
   "source": [
    "print(len(model.trainable_weights))"
   ]
  },
  {
   "cell_type": "markdown",
   "id": "78dee1ae",
   "metadata": {},
   "source": [
    "#### Freezing Pretrained Convent "
   ]
  },
  {
   "cell_type": "code",
   "execution_count": 14,
   "id": "e88543b6",
   "metadata": {},
   "outputs": [
    {
     "name": "stdout",
     "output_type": "stream",
     "text": [
      "4\n"
     ]
    }
   ],
   "source": [
    "conv.trainable = False\n",
    "print(len(model.trainable_weights))"
   ]
  },
  {
   "cell_type": "code",
   "execution_count": 17,
   "id": "e13614c9",
   "metadata": {},
   "outputs": [],
   "source": [
    "train_gen=ImageDataGenerator(rescale=1./255,zoom_range=0.2,shear_range=0.2,vertical_flip=True,horizontal_flip=True,rotation_range=40,height_shift_range=0.2,width_shift_range=0.2,fill_mode='nearest')\n",
    "validation_gen = ImageDataGenerator(rescale=1./255)"
   ]
  },
  {
   "cell_type": "code",
   "execution_count": 18,
   "id": "01c7e493",
   "metadata": {},
   "outputs": [
    {
     "name": "stdout",
     "output_type": "stream",
     "text": [
      "Found 2000 images belonging to 2 classes.\n",
      "Found 1000 images belonging to 2 classes.\n"
     ]
    }
   ],
   "source": [
    "train_generator = train_gen.flow_from_directory(train_dir,target_size=(150,150),class_mode='binary',batch_size=20)\n",
    "validation_generator = validation_gen.flow_from_directory(validation_dir,target_size=(150,150),class_mode='binary',batch_size=20)\n",
    "\n"
   ]
  },
  {
   "cell_type": "code",
   "execution_count": null,
   "id": "83100368",
   "metadata": {},
   "outputs": [
    {
     "name": "stderr",
     "output_type": "stream",
     "text": [
      "/tmp/ipykernel_4364/1824740868.py:1: UserWarning: `Model.fit_generator` is deprecated and will be removed in a future version. Please use `Model.fit`, which supports generators.\n",
      "  history = model.fit_generator(train_generator,epochs=30,steps_per_epoch=100,validation_data=validation_generator,validation_steps=50)\n"
     ]
    },
    {
     "name": "stdout",
     "output_type": "stream",
     "text": [
      "Epoch 1/30\n",
      "100/100 [==============================] - 2231s 22s/step - loss: 0.6667 - acc: 0.6125 - val_loss: 0.4496 - val_acc: 0.7990\n",
      "Epoch 2/30\n",
      "100/100 [==============================] - 3734s 38s/step - loss: 0.5126 - acc: 0.7550 - val_loss: 0.2904 - val_acc: 0.8780\n",
      "Epoch 3/30\n",
      "100/100 [==============================] - 3044s 31s/step - loss: 0.4123 - acc: 0.8135 - val_loss: 0.2710 - val_acc: 0.8910\n",
      "Epoch 4/30\n",
      "100/100 [==============================] - 3121s 31s/step - loss: 0.3533 - acc: 0.8530 - val_loss: 0.2940 - val_acc: 0.8820\n",
      "Epoch 5/30\n",
      "100/100 [==============================] - 2473s 25s/step - loss: 0.3305 - acc: 0.8630 - val_loss: 0.2133 - val_acc: 0.9120\n",
      "Epoch 6/30\n",
      "100/100 [==============================] - 2344s 23s/step - loss: 0.3091 - acc: 0.8695 - val_loss: 0.2045 - val_acc: 0.9170\n",
      "Epoch 7/30\n",
      "100/100 [==============================] - 2577s 26s/step - loss: 0.2792 - acc: 0.8820 - val_loss: 0.1634 - val_acc: 0.9340\n",
      "Epoch 8/30\n",
      " 35/100 [=========>....................] - ETA: 29:48 - loss: 0.3017 - acc: 0.8814"
     ]
    }
   ],
   "source": [
    "history = model.fit_generator(train_generator,epochs=30,steps_per_epoch=100,validation_data=validation_generator,validation_steps=50)"
   ]
  },
  {
   "cell_type": "code",
   "execution_count": 19,
   "id": "0dd1aa50",
   "metadata": {},
   "outputs": [
    {
     "name": "stdout",
     "output_type": "stream",
     "text": [
      "Model: \"vgg16\"\n",
      "_________________________________________________________________\n",
      " Layer (type)                Output Shape              Param #   \n",
      "=================================================================\n",
      " input_1 (InputLayer)        [(None, 150, 150, 3)]     0         \n",
      "                                                                 \n",
      " block1_conv1 (Conv2D)       (None, 150, 150, 64)      1792      \n",
      "                                                                 \n",
      " block1_conv2 (Conv2D)       (None, 150, 150, 64)      36928     \n",
      "                                                                 \n",
      " block1_pool (MaxPooling2D)  (None, 75, 75, 64)        0         \n",
      "                                                                 \n",
      " block2_conv1 (Conv2D)       (None, 75, 75, 128)       73856     \n",
      "                                                                 \n",
      " block2_conv2 (Conv2D)       (None, 75, 75, 128)       147584    \n",
      "                                                                 \n",
      " block2_pool (MaxPooling2D)  (None, 37, 37, 128)       0         \n",
      "                                                                 \n",
      " block3_conv1 (Conv2D)       (None, 37, 37, 256)       295168    \n",
      "                                                                 \n",
      " block3_conv2 (Conv2D)       (None, 37, 37, 256)       590080    \n",
      "                                                                 \n",
      " block3_conv3 (Conv2D)       (None, 37, 37, 256)       590080    \n",
      "                                                                 \n",
      " block3_pool (MaxPooling2D)  (None, 18, 18, 256)       0         \n",
      "                                                                 \n",
      " block4_conv1 (Conv2D)       (None, 18, 18, 512)       1180160   \n",
      "                                                                 \n",
      " block4_conv2 (Conv2D)       (None, 18, 18, 512)       2359808   \n",
      "                                                                 \n",
      " block4_conv3 (Conv2D)       (None, 18, 18, 512)       2359808   \n",
      "                                                                 \n",
      " block4_pool (MaxPooling2D)  (None, 9, 9, 512)         0         \n",
      "                                                                 \n",
      " block5_conv1 (Conv2D)       (None, 9, 9, 512)         2359808   \n",
      "                                                                 \n",
      " block5_conv2 (Conv2D)       (None, 9, 9, 512)         2359808   \n",
      "                                                                 \n",
      " block5_conv3 (Conv2D)       (None, 9, 9, 512)         2359808   \n",
      "                                                                 \n",
      " block5_pool (MaxPooling2D)  (None, 4, 4, 512)         0         \n",
      "                                                                 \n",
      "=================================================================\n",
      "Total params: 14714688 (56.13 MB)\n",
      "Trainable params: 0 (0.00 Byte)\n",
      "Non-trainable params: 14714688 (56.13 MB)\n",
      "_________________________________________________________________\n"
     ]
    }
   ],
   "source": [
    "conv.summary()"
   ]
  },
  {
   "cell_type": "markdown",
   "id": "8a101f73",
   "metadata": {},
   "source": [
    "#### Freezing Convent Except Lower Layers For Fine Tuning "
   ]
  },
  {
   "cell_type": "code",
   "execution_count": 33,
   "id": "060cd1ad",
   "metadata": {},
   "outputs": [],
   "source": [
    "conv.trainable = True\n",
    "set_trainable = False\n",
    "for layer in conv.layers:\n",
    "    if layer.name == 'block5_conv1':\n",
    "        set_trainable = True\n",
    "    if set_trainable:\n",
    "        layer.trainable = True\n",
    "    else:\n",
    "        layer.trainable = False"
   ]
  },
  {
   "cell_type": "markdown",
   "id": "9c889cc8",
   "metadata": {},
   "source": [
    "#### Making ModelArchitecture"
   ]
  },
  {
   "cell_type": "code",
   "execution_count": 38,
   "id": "7ee3c8db",
   "metadata": {},
   "outputs": [],
   "source": [
    "model = models.Sequential()\n",
    "model.add(conv)\n",
    "model.add(layers.Flatten())\n",
    "model.add(layers.Dense(512,activation='relu'))\n",
    "model.add(layers.Dropout(0.5))\n",
    "model.add(layers.Dense(1,activation='sigmoid'))\n",
    "\n",
    "model.compile(optimizer=optimizers.RMSprop(learning_rate=1e-5),loss='binary_crossentropy',metrics=['acc'])"
   ]
  },
  {
   "cell_type": "markdown",
   "id": "cb1062fc",
   "metadata": {},
   "source": [
    "#### Checking Model Trainable and Non Trainable parameters"
   ]
  },
  {
   "cell_type": "code",
   "execution_count": 34,
   "id": "99f6ca10",
   "metadata": {},
   "outputs": [
    {
     "name": "stdout",
     "output_type": "stream",
     "text": [
      "Model: \"sequential_1\"\n",
      "_________________________________________________________________\n",
      " Layer (type)                Output Shape              Param #   \n",
      "=================================================================\n",
      " vgg16 (Functional)          (None, 4, 4, 512)         14714688  \n",
      "                                                                 \n",
      " flatten_1 (Flatten)         (None, 8192)              0         \n",
      "                                                                 \n",
      " dense_2 (Dense)             (None, 512)               4194816   \n",
      "                                                                 \n",
      " dropout_1 (Dropout)         (None, 512)               0         \n",
      "                                                                 \n",
      " dense_3 (Dense)             (None, 1)                 513       \n",
      "                                                                 \n",
      "=================================================================\n",
      "Total params: 18910017 (72.14 MB)\n",
      "Trainable params: 11274753 (43.01 MB)\n",
      "Non-trainable params: 7635264 (29.13 MB)\n",
      "_________________________________________________________________\n"
     ]
    }
   ],
   "source": [
    "model.summary()"
   ]
  },
  {
   "cell_type": "code",
   "execution_count": 37,
   "id": "2d56d8e8",
   "metadata": {},
   "outputs": [
    {
     "name": "stdout",
     "output_type": "stream",
     "text": [
      "6\n"
     ]
    }
   ],
   "source": [
    "print(len(model.trainable_weights))"
   ]
  },
  {
   "cell_type": "markdown",
   "id": "9c847054",
   "metadata": {},
   "source": [
    "#### Training Or Fitting Model on training Data"
   ]
  },
  {
   "cell_type": "code",
   "execution_count": null,
   "id": "726ec01e",
   "metadata": {
    "scrolled": true
   },
   "outputs": [
    {
     "name": "stderr",
     "output_type": "stream",
     "text": [
      "/tmp/ipykernel_3285/3011347787.py:1: UserWarning: `Model.fit_generator` is deprecated and will be removed in a future version. Please use `Model.fit`, which supports generators.\n",
      "  history  = model.fit_generator(train_generator,epochs=100,steps_per_epoch =100, validation_data=validation_generator,validation_steps=50)\n"
     ]
    },
    {
     "name": "stdout",
     "output_type": "stream",
     "text": [
      "Epoch 1/100\n",
      "100/100 [==============================] - 838s 8s/step - loss: 0.5946 - acc: 0.6795 - val_loss: 0.4432 - val_acc: 0.8020\n",
      "Epoch 2/100\n",
      "100/100 [==============================] - 983s 10s/step - loss: 0.5391 - acc: 0.7305 - val_loss: 0.3713 - val_acc: 0.8450\n",
      "Epoch 3/100\n",
      "100/100 [==============================] - ETA: 0s - loss: 0.4936 - acc: 0.7715"
     ]
    }
   ],
   "source": [
    "history  = model.fit_generator(train_generator,epochs=100,steps_per_epoch =100, validation_data=validation_generator,validation_steps=50)"
   ]
  }
 ],
 "metadata": {
  "kernelspec": {
   "display_name": "Python 3 (ipykernel)",
   "language": "python",
   "name": "python3"
  },
  "language_info": {
   "codemirror_mode": {
    "name": "ipython",
    "version": 3
   },
   "file_extension": ".py",
   "mimetype": "text/x-python",
   "name": "python",
   "nbconvert_exporter": "python",
   "pygments_lexer": "ipython3",
   "version": "3.11.4"
  }
 },
 "nbformat": 4,
 "nbformat_minor": 5
}
